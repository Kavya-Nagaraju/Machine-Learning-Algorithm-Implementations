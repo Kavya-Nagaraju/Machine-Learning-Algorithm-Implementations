{
 "cells": [
  {
   "cell_type": "code",
   "execution_count": 1,
   "metadata": {},
   "outputs": [],
   "source": [
    "import numpy as np\n",
    "from numpy import *\n",
    "from matplotlib import pyplot as plt"
   ]
  },
  {
   "cell_type": "code",
   "execution_count": 2,
   "metadata": {},
   "outputs": [],
   "source": [
    "X = []  \n",
    "y = []   "
   ]
  },
  {
   "cell_type": "code",
   "execution_count": 3,
   "metadata": {},
   "outputs": [],
   "source": [
    "def loadDataSet():\n",
    "    f=open('Question5.txt')\n",
    "    # Read data line by line and use strip to remove the Spaces \n",
    "    for line in f.readlines():\n",
    "        nline=line.strip().split()\n",
    "        # X has two columns\n",
    "        X.append([float(nline[0]),float(nline[1])])\n",
    "        y.append(int(nline[2]))\n",
    "    return mat(X).T,mat(y)"
   ]
  },
  {
   "cell_type": "code",
   "execution_count": 4,
   "metadata": {},
   "outputs": [],
   "source": [
    "X,y=loadDataSet()"
   ]
  },
  {
   "cell_type": "code",
   "execution_count": 5,
   "metadata": {},
   "outputs": [],
   "source": [
    "def sigmoid(x):\n",
    "    #==========\n",
    "    #todo '''complete the sigmoid function'''\n",
    "    #==========\n",
    "    #return np.log(x / (1 - x))\n",
    "    sigm = 1/(1+np.exp(-x))\n",
    "    return sigm"
   ]
  },
  {
   "cell_type": "code",
   "execution_count": 6,
   "metadata": {},
   "outputs": [],
   "source": [
    "def Logistic(X,y,W,b,n,alpha,iterations):\n",
    "    \n",
    "    '''\n",
    "    X: input data\n",
    "    y: labels\n",
    "    W: weight\n",
    "    b: bias\n",
    "    n: number of samples\n",
    "    alpha: learning rate\n",
    "    iterations: the number of iteration\n",
    "    '''\n",
    "    \n",
    "    J = zeros((iterations,1))\n",
    "    y_hat = zeros((1,n))\n",
    "    \n",
    "    for i in range(iterations):   \n",
    "        \n",
    "        # step1 forward propagation\n",
    "        #==========\n",
    "        #todo '''complete forward propagation equation'''\n",
    "        fp = None\n",
    "        fp = sigmoid(np.dot(W.T,X) + b)        \n",
    "                \n",
    "        #==========\n",
    "        \n",
    "        # compute cost function\n",
    "        #==========\n",
    "        #todo '''complete compute cost function equation'''\n",
    "        \n",
    "        #fp = fp.reshape(fp.shape[1], fp.shape[0])\n",
    "        #cost = (-1/n) * np.sum((y * np.log(fp)) + (1 - y) * np.log(1 - fp), axis = 1)\n",
    "        \n",
    "        cost = -1/n * np.sum( np.multiply(np.log(fp), y) + np.multiply(np.log(1-fp), (1-y)))\n",
    "        J[i] = cost\n",
    "        \n",
    "        #==========\n",
    "        \n",
    "        # step2 backpropagation\n",
    "        #==========\n",
    "        #todo '''complete backpropagation equations'''\n",
    "        \n",
    "        dw = (1/n) * np.dot(X, (fp - y).T)\n",
    "        db = (1/n) * np.sum(fp - y, axis = 1)\n",
    "        \n",
    "        #==========\n",
    "        \n",
    "        # step3 gradient descent\n",
    "        #==========\n",
    "        #todo '''complete gradientdescent equations'''\n",
    "        W = W - alpha * dw\n",
    "        b = b - alpha * db\n",
    "                \n",
    "        #==========\n",
    "        \n",
    "        if fp[0,i] <= 0.5:\n",
    "            y_hat[0,i] = 0\n",
    "        else:\n",
    "            y_hat[0,i] = 1\n",
    "    return y_hat,W,b,J"
   ]
  },
  {
   "cell_type": "code",
   "execution_count": 7,
   "metadata": {},
   "outputs": [],
   "source": [
    "def plotBestFit(X,y,J,W,b,n,y_hat):\n",
    "    \n",
    "    '''\n",
    "    X: input data\n",
    "    y: labels\n",
    "    J: cost values\n",
    "    W: weight\n",
    "    b: bias\n",
    "    n: number of samples\n",
    "    y_hat: the predict labels from Logistic Regression \n",
    "    '''\n",
    "    \n",
    "    # Plot cost function figure\n",
    "    #==========\n",
    "    #todo '''complete the code to plot cost function results'''\n",
    "    plt.plot(J)\n",
    "    plt.ylabel('cost')\n",
    "    plt.xlabel('iterations')\n",
    "    plt.show()\n",
    "    #==========\n",
    "    \n",
    "    # Plot the final classification figure\n",
    "    #==========\n",
    "    #todo '''complete the code to Logistic Regression Classification Result'''\n",
    "    \n",
    "    plt.scatter(np.array(X[0]),y_hat)\n",
    "    plt.xlabel('predictions for X[0]')    \n",
    "    plt.show()\n",
    "        #==========\n",
    "\n",
    "    plt.scatter(np.array(X[1]),y_hat)\n",
    "    plt.xlabel('predictions for X[1]')    \n",
    "    plt.show()\n",
    "        #==========\n"
   ]
  },
  {
   "cell_type": "code",
   "execution_count": 8,
   "metadata": {},
   "outputs": [],
   "source": [
    "num = X.shape[0]  # number of features\n",
    "n = X.shape[1] # number of samples"
   ]
  },
  {
   "cell_type": "code",
   "execution_count": 9,
   "metadata": {},
   "outputs": [],
   "source": [
    "# Initianlize the weights and bias\n",
    "#==========\n",
    "#todo '''complete the code to initianlize the weights and bias'''\n",
    "#==========\n",
    "W = np.zeros((num, 1))\n",
    "b = 0"
   ]
  },
  {
   "cell_type": "code",
   "execution_count": 14,
   "metadata": {},
   "outputs": [],
   "source": [
    "# Learning rate\n",
    "#==========\n",
    "#todo '''try different learning rates''\n",
    "#==========\n",
    "#alpha= 0.8\n",
    "alpha = 0.05"
   ]
  },
  {
   "cell_type": "code",
   "execution_count": 15,
   "metadata": {},
   "outputs": [],
   "source": [
    "# Iterations\n",
    "#==========\n",
    "#todo '''try different Iterations''\n",
    "#==========\n",
    "iterations = 1000"
   ]
  },
  {
   "cell_type": "code",
   "execution_count": 16,
   "metadata": {},
   "outputs": [
    {
     "ename": "IndexError",
     "evalue": "index 100 is out of bounds for axis 1 with size 100",
     "output_type": "error",
     "traceback": [
      "\u001b[1;31m---------------------------------------------------------------------------\u001b[0m",
      "\u001b[1;31mIndexError\u001b[0m                                Traceback (most recent call last)",
      "\u001b[1;32m<ipython-input-16-752af9cfdd85>\u001b[0m in \u001b[0;36m<module>\u001b[1;34m\u001b[0m\n\u001b[0;32m      1\u001b[0m \u001b[1;31m# Get the results from Logistic function\u001b[0m\u001b[1;33m\u001b[0m\u001b[1;33m\u001b[0m\u001b[1;33m\u001b[0m\u001b[0m\n\u001b[1;32m----> 2\u001b[1;33m \u001b[0my_hat\u001b[0m\u001b[1;33m,\u001b[0m\u001b[0mW\u001b[0m\u001b[1;33m,\u001b[0m\u001b[0mb\u001b[0m\u001b[1;33m,\u001b[0m\u001b[0mJ\u001b[0m \u001b[1;33m=\u001b[0m \u001b[0mLogistic\u001b[0m\u001b[1;33m(\u001b[0m\u001b[0mX\u001b[0m\u001b[1;33m,\u001b[0m \u001b[0my\u001b[0m\u001b[1;33m,\u001b[0m \u001b[0mW\u001b[0m\u001b[1;33m,\u001b[0m \u001b[0mb\u001b[0m\u001b[1;33m,\u001b[0m \u001b[0mn\u001b[0m\u001b[1;33m,\u001b[0m \u001b[0malpha\u001b[0m\u001b[1;33m,\u001b[0m \u001b[0miterations\u001b[0m\u001b[1;33m)\u001b[0m\u001b[1;33m\u001b[0m\u001b[1;33m\u001b[0m\u001b[0m\n\u001b[0m",
      "\u001b[1;32m<ipython-input-6-fd8b181e2cb4>\u001b[0m in \u001b[0;36mLogistic\u001b[1;34m(X, y, W, b, n, alpha, iterations)\u001b[0m\n\u001b[0;32m     53\u001b[0m         \u001b[1;31m#==========\u001b[0m\u001b[1;33m\u001b[0m\u001b[1;33m\u001b[0m\u001b[1;33m\u001b[0m\u001b[0m\n\u001b[0;32m     54\u001b[0m \u001b[1;33m\u001b[0m\u001b[0m\n\u001b[1;32m---> 55\u001b[1;33m         \u001b[1;32mif\u001b[0m \u001b[0mfp\u001b[0m\u001b[1;33m[\u001b[0m\u001b[1;36m0\u001b[0m\u001b[1;33m,\u001b[0m\u001b[0mi\u001b[0m\u001b[1;33m]\u001b[0m \u001b[1;33m<=\u001b[0m \u001b[1;36m0.5\u001b[0m\u001b[1;33m:\u001b[0m\u001b[1;33m\u001b[0m\u001b[1;33m\u001b[0m\u001b[0m\n\u001b[0m\u001b[0;32m     56\u001b[0m             \u001b[0my_hat\u001b[0m\u001b[1;33m[\u001b[0m\u001b[1;36m0\u001b[0m\u001b[1;33m,\u001b[0m\u001b[0mi\u001b[0m\u001b[1;33m]\u001b[0m \u001b[1;33m=\u001b[0m \u001b[1;36m0\u001b[0m\u001b[1;33m\u001b[0m\u001b[1;33m\u001b[0m\u001b[0m\n\u001b[0;32m     57\u001b[0m         \u001b[1;32melse\u001b[0m\u001b[1;33m:\u001b[0m\u001b[1;33m\u001b[0m\u001b[1;33m\u001b[0m\u001b[0m\n",
      "\u001b[1;32m~\\anaconda3\\lib\\site-packages\\numpy\\matrixlib\\defmatrix.py\u001b[0m in \u001b[0;36m__getitem__\u001b[1;34m(self, index)\u001b[0m\n\u001b[0;32m    193\u001b[0m \u001b[1;33m\u001b[0m\u001b[0m\n\u001b[0;32m    194\u001b[0m         \u001b[1;32mtry\u001b[0m\u001b[1;33m:\u001b[0m\u001b[1;33m\u001b[0m\u001b[1;33m\u001b[0m\u001b[0m\n\u001b[1;32m--> 195\u001b[1;33m             \u001b[0mout\u001b[0m \u001b[1;33m=\u001b[0m \u001b[0mN\u001b[0m\u001b[1;33m.\u001b[0m\u001b[0mndarray\u001b[0m\u001b[1;33m.\u001b[0m\u001b[0m__getitem__\u001b[0m\u001b[1;33m(\u001b[0m\u001b[0mself\u001b[0m\u001b[1;33m,\u001b[0m \u001b[0mindex\u001b[0m\u001b[1;33m)\u001b[0m\u001b[1;33m\u001b[0m\u001b[1;33m\u001b[0m\u001b[0m\n\u001b[0m\u001b[0;32m    196\u001b[0m         \u001b[1;32mfinally\u001b[0m\u001b[1;33m:\u001b[0m\u001b[1;33m\u001b[0m\u001b[1;33m\u001b[0m\u001b[0m\n\u001b[0;32m    197\u001b[0m             \u001b[0mself\u001b[0m\u001b[1;33m.\u001b[0m\u001b[0m_getitem\u001b[0m \u001b[1;33m=\u001b[0m \u001b[1;32mFalse\u001b[0m\u001b[1;33m\u001b[0m\u001b[1;33m\u001b[0m\u001b[0m\n",
      "\u001b[1;31mIndexError\u001b[0m: index 100 is out of bounds for axis 1 with size 100"
     ]
    }
   ],
   "source": [
    "# Get the results from Logistic function\n",
    "y_hat,W,b,J = Logistic(X, y, W, b, n, alpha, iterations)"
   ]
  },
  {
   "cell_type": "code",
   "execution_count": 17,
   "metadata": {},
   "outputs": [
    {
     "data": {
      "image/png": "[encoded data removed]",
      "text/plain": [
       "<Figure size 432x288 with 1 Axes>"
      ]
     },
     "metadata": {
      "needs_background": "light"
     },
     "output_type": "display_data"
    },
    {
     "data": {
      "image/png": "[encoded data removed]",
      "text/plain": [
       "<Figure size 432x288 with 1 Axes>"
      ]
     },
     "metadata": {
      "needs_background": "light"
     },
     "output_type": "display_data"
    },
    {
     "data": {
      "image/png": "[encoded data removed]",
      "text/plain": [
       "<Figure size 432x288 with 1 Axes>"
      ]
     },
     "metadata": {
      "needs_background": "light"
     },
     "output_type": "display_data"
    }
   ],
   "source": [
    "# Plot figures\n",
    "plotBestFit(X, y, J, W, b, n, y_hat)"
   ]
  },
  {
   "cell_type": "code",
   "execution_count": null,
   "metadata": {},
   "outputs": [],
   "source": []
  }
 ],
 "metadata": {
  "kernelspec": {
   "display_name": "Python 3",
   "language": "python",
   "name": "python3"
  },
  "language_info": {
   "codemirror_mode": {
    "name": "ipython",
    "version": 3
   },
   "file_extension": ".py",
   "mimetype": "text/x-python",
   "name": "python",
   "nbconvert_exporter": "python",
   "pygments_lexer": "ipython3",
   "version": "3.8.3"
  }
 },
 "nbformat": 4,
 "nbformat_minor": 2
}
